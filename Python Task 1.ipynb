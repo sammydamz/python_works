{
  "nbformat": 4,
  "nbformat_minor": 0,
  "metadata": {
    "colab": {
      "provenance": []
    },
    "kernelspec": {
      "name": "python3",
      "display_name": "Python 3"
    },
    "language_info": {
      "name": "python"
    }
  },
  "cells": [
    {
      "cell_type": "code",
      "execution_count": 73,
      "metadata": {
        "colab": {
          "base_uri": "https://localhost:8080/"
        },
        "id": "5yMq9rJgr6TW",
        "outputId": "c2412b07-1d08-4e3d-a999-82162bff1c3c"
      },
      "outputs": [
        {
          "output_type": "stream",
          "name": "stdout",
          "text": [
            "Press the enter key: \n",
            "My IQ test results came back. They were negative\n"
          ]
        }
      ],
      "source": [
        "#1\n",
        "\n",
        "joke = input(\"Press the enter key: \")\n",
        "print(\"My IQ test results came back. They were negative\")"
      ]
    },
    {
      "cell_type": "code",
      "source": [
        "#3\n",
        "a = 5\n",
        "print(a,end=\"\\n\")\n",
        "a = a*2\n",
        "print(a, end=\"\\n\")\n",
        "a = a-1\n",
        "print(a)\n"
      ],
      "metadata": {
        "colab": {
          "base_uri": "https://localhost:8080/"
        },
        "id": "QlTCb2Ulspmg",
        "outputId": "5d733fcb-9bbf-48d9-9777-328540f35e07"
      },
      "execution_count": 74,
      "outputs": [
        {
          "output_type": "stream",
          "name": "stdout",
          "text": [
            "5\n",
            "10\n",
            "9\n"
          ]
        }
      ]
    },
    {
      "cell_type": "code",
      "source": [
        "#4\n",
        "\n",
        "a = 5\n",
        "print(a, end='@')\n",
        "a = a*2\n",
        "print(a, end='@')\n",
        "a = a-1\n",
        "print(a)\n"
      ],
      "metadata": {
        "colab": {
          "base_uri": "https://localhost:8080/"
        },
        "id": "l1okKFHNyXh1",
        "outputId": "844aa6c0-7429-4372-9c5d-a118cf51d1e5"
      },
      "execution_count": 2,
      "outputs": [
        {
          "output_type": "stream",
          "name": "stdout",
          "text": [
            "5@10@9\n"
          ]
        }
      ]
    },
    {
      "cell_type": "code",
      "source": [
        "#6\n",
        "\n",
        "pi = 3.141592653589793238\n",
        "\n",
        "rad = float(input(\"Enter the radius(cm): \"))\n",
        "\n",
        "calc = pi * rad * rad\n",
        "\n",
        "area = round(calc,2)\n",
        "\n",
        "print(\"The area of the circle is\",area,\"sq. units\")\n"
      ],
      "metadata": {
        "colab": {
          "base_uri": "https://localhost:8080/"
        },
        "id": "c8jR4IUpmQqQ",
        "outputId": "0c97eb79-b6a9-40a9-d067-7a59c99e84b8"
      },
      "execution_count": 75,
      "outputs": [
        {
          "output_type": "stream",
          "name": "stdout",
          "text": [
            "Enter the radius(cm): 5\n",
            "The area of the circle is 78.54 sq. units\n"
          ]
        }
      ]
    },
    {
      "cell_type": "code",
      "source": [
        "#7\n",
        "\n",
        "a = int(input(\"Enter the marks of the subjects(#1): \"))\n",
        "b = int(input(\"Enter the marks of the subjects(#2): \"))\n",
        "c = int(input(\"Enter the marks of the subjects(#3): \"))\n",
        "d = int(input(\"Enter the marks of the subjects(#4): \"))\n",
        "e = int(input(\"Enter the marks of the subjects(#5): \"))\n",
        "\n",
        "sum = a + b + c + d + e\n",
        "avg = sum/5\n",
        "\n",
        "print(\"The average is \",avg)"
      ],
      "metadata": {
        "colab": {
          "base_uri": "https://localhost:8080/"
        },
        "id": "y3t3Oet-n8XO",
        "outputId": "a945f9ad-e314-4c99-9b64-7e47ec8e11a8"
      },
      "execution_count": 18,
      "outputs": [
        {
          "output_type": "stream",
          "name": "stdout",
          "text": [
            "Enter the marks of the subjects(#1): 89\n",
            "Enter the marks of the subjects(#2): 78\n",
            "Enter the marks of the subjects(#3): 80\n",
            "Enter the marks of the subjects(#4): 94\n",
            "Enter the marks of the subjects(#5): 77\n",
            "The average is  83.6\n"
          ]
        }
      ]
    },
    {
      "cell_type": "code",
      "source": [
        "#8\n",
        "\n",
        "hCm = int(input(\"Enter the height(cm): \"))\n",
        "\n",
        "hIn = hCm/2.54\n",
        "hIn2 =round(hIn,2)\n",
        "\n",
        "\n",
        "hFt = hIn/12\n",
        "hFt2 = round(hFt,2)\n",
        "\n",
        "\n",
        "print(\"Your height in is Inches is \",hIn2,\"in\")\n",
        "print(\"Your height in is Feet is \",hFt2,\"ft\")"
      ],
      "metadata": {
        "colab": {
          "base_uri": "https://localhost:8080/"
        },
        "id": "Uquv7lyvmQ0c",
        "outputId": "b62938f0-1af7-4e5d-90aa-3a5eae9488e7"
      },
      "execution_count": 23,
      "outputs": [
        {
          "output_type": "stream",
          "name": "stdout",
          "text": [
            "Enter the height(cm): 180\n",
            "Your height in is Inches is  70.87 in\n",
            "Your height in is Feet is  5.91 ft\n"
          ]
        }
      ]
    },
    {
      "cell_type": "code",
      "source": [
        "#9\n",
        "\n",
        "num = int(input(\"Enter a number: \"))\n",
        "\n",
        "n1 = num*num\n",
        "n2 = num*num*num\n",
        "\n",
        "print(n1)\n",
        "print(n2)"
      ],
      "metadata": {
        "colab": {
          "base_uri": "https://localhost:8080/"
        },
        "id": "quYUKn9s0eIk",
        "outputId": "c568ea99-fb28-48c6-fd89-9e6d94a50b46"
      },
      "execution_count": 31,
      "outputs": [
        {
          "output_type": "stream",
          "name": "stdout",
          "text": [
            "Enter a number: 4\n",
            "16\n",
            "64\n"
          ]
        }
      ]
    },
    {
      "cell_type": "code",
      "source": [
        "#10\n",
        "\n",
        "a = float(input('Enter the first side: '))\n",
        "b = float(input('Enter the  second side: '))\n",
        "c = float(input('Enter the  third side: '))\n",
        "\n",
        "s = (a + b + c) / 2\n",
        "\n",
        "area = (s*(s-a)*(s-b)*(s-c)) ** 0.5\n",
        "area1 = round(area, 2)\n",
        "\n",
        "print(\"the area is\",area1,\"sq. units\")"
      ],
      "metadata": {
        "colab": {
          "base_uri": "https://localhost:8080/"
        },
        "id": "SKWSiWSWmRCf",
        "outputId": "802d3cc4-dcb8-4bc3-d89b-92b246453577"
      },
      "execution_count": 38,
      "outputs": [
        {
          "output_type": "stream",
          "name": "stdout",
          "text": [
            "Enter the first side: 6\n",
            "Enter the  second side: 7\n",
            "Enter the  third side: 8\n",
            "the area is 20.33 sq. units\n"
          ]
        }
      ]
    },
    {
      "cell_type": "code",
      "source": [
        "#11 SIMPLE INTEREST\n",
        "\n",
        "p  = int(input(\"Enter the Principal amount: \"))\n",
        "r = int(input(\"Enter the rate(per annum): \"))\n",
        "t = int(input(\"Enter the time period: \"))\n",
        "\n",
        "s_i = (p*r*t)/100\n",
        "\n",
        "print(\"The Simple Interest is \",s_i)\n"
      ],
      "metadata": {
        "colab": {
          "base_uri": "https://localhost:8080/"
        },
        "id": "v_Csw0c0IT1F",
        "outputId": "49da4046-0fd7-4486-81f1-fb5f2e80f20d"
      },
      "execution_count": 41,
      "outputs": [
        {
          "output_type": "stream",
          "name": "stdout",
          "text": [
            "Enter the Principal amount: 200\n",
            "Enter the rate(per annum): 5\n",
            "Enter the time period: 3\n",
            "The Simple Interest is  30.0\n"
          ]
        }
      ]
    },
    {
      "cell_type": "code",
      "source": [
        "#11 COMPOUND INTEREST\n",
        "\n",
        "p  = int(input(\"Enter the Principal amount: \"))\n",
        "r = int(input(\"Enter the rate(per annum): \"))\n",
        "t = int(input(\"Enter the time period : \"))\n",
        "\n",
        "A = p * (1 + r/100)**t\n",
        "\n",
        "In = A - p\n",
        "In1 = round(In,2)\n",
        "print(\"The Compound Interest is\",In1)"
      ],
      "metadata": {
        "colab": {
          "base_uri": "https://localhost:8080/"
        },
        "id": "rMejF-pfLo_F",
        "outputId": "871dd972-c153-4e11-c938-e5eb13bd7191"
      },
      "execution_count": 48,
      "outputs": [
        {
          "output_type": "stream",
          "name": "stdout",
          "text": [
            "Enter the Principal amount: 200\n",
            "Enter the rate(per annum): 5\n",
            "Enter the time period : 3\n",
            "The Compound Interest is 31.53\n"
          ]
        }
      ]
    },
    {
      "cell_type": "code",
      "source": [
        "#12\n",
        "\n",
        "number = int(input(\"Enter a number: \"))\n",
        "\n",
        "print(\"The multiples are: \")\n",
        "for i in range(1,6):\n",
        "    print(number*i, end =\"\\n\")"
      ],
      "metadata": {
        "colab": {
          "base_uri": "https://localhost:8080/"
        },
        "id": "6AfZXguDQ6YA",
        "outputId": "bad77732-0b55-4764-c141-476d46513f12"
      },
      "execution_count": 50,
      "outputs": [
        {
          "output_type": "stream",
          "name": "stdout",
          "text": [
            "Enter a number: 5\n",
            "The multiples are: \n",
            "5\n",
            "10\n",
            "15\n",
            "20\n",
            "25\n"
          ]
        }
      ]
    },
    {
      "cell_type": "code",
      "source": [
        "#13\n",
        "\n",
        "name = input(\"Enter your name: \")\n",
        "clas = input(\"Enter your class: \")\n",
        "age = input(\"enter your age; \")\n",
        "\n",
        "print(name,\" ,\", clas,\" ,\", age)\n",
        "print(\"\\n\")\n",
        "print(name,end=\"\\n\",)\n",
        "print(clas, end=\"\\n\")\n",
        "print(age)\n",
        "\n"
      ],
      "metadata": {
        "colab": {
          "base_uri": "https://localhost:8080/"
        },
        "id": "gnet2l_wRVnC",
        "outputId": "c3f5f3f9-2472-4f9d-9635-e4f953bc835b"
      },
      "execution_count": 55,
      "outputs": [
        {
          "output_type": "stream",
          "name": "stdout",
          "text": [
            "Enter your name: Sam\n",
            "Enter your class: SHS 2\n",
            "enter your age; 20\n",
            "Sam  , SHS 2  , 20\n",
            "\n",
            "\n",
            "Sam\n",
            "SHS 2\n",
            "20\n"
          ]
        }
      ]
    },
    {
      "cell_type": "code",
      "source": [
        "#14\n",
        "\n",
        "num = int(input(\"Enter a nmuber: \"))\n",
        "if (num>=1) and (num<=7):\n",
        "  i = num\n",
        "  print(i, end=\"\")\n",
        "  i = i + 1\n",
        "  print(i, end=\"\")\n",
        "  i = i + 1\n",
        "  print(i, end=\"\")  \n",
        "    \n",
        "else:\n",
        "    print(\"The number should be 1-7\")  \n",
        "\n",
        " "
      ],
      "metadata": {
        "colab": {
          "base_uri": "https://localhost:8080/"
        },
        "id": "nx-KEnqDT7Vl",
        "outputId": "10d84c71-c26a-4375-9695-75559f9db3fa"
      },
      "execution_count": 76,
      "outputs": [
        {
          "output_type": "stream",
          "name": "stdout",
          "text": [
            "Enter a nmuber: 4\n",
            "456"
          ]
        }
      ]
    },
    {
      "cell_type": "code",
      "source": [
        "#15\n",
        "\n",
        "a = int(input(\"Enter the first number: \"))\n",
        "b = int(input(\"Enter the  second number: \"))\n",
        "c = int(input(\"Enter the third number: \"))\n",
        "\n",
        "num_list = []\n",
        "num_list.append(a)\n",
        "num_list.append(b)\n",
        "num_list.append(c)\n",
        "\n",
        "sum1_2 = a + b\n",
        "sum2_3 = b + c\n",
        "\n",
        "num_list[0] = sum1_2\n",
        "num_list[1] = sum2_3\n",
        "\n",
        "print(num_list[0], end=\"\\n\")\n",
        "print(num_list[1], end=\"\\n\")\n",
        "print(num_list[2], end=\"\\n\")"
      ],
      "metadata": {
        "colab": {
          "base_uri": "https://localhost:8080/"
        },
        "id": "ixm34k2ogOsp",
        "outputId": "3542392e-c516-42d4-e7fa-a5fc2ced770e"
      },
      "execution_count": 72,
      "outputs": [
        {
          "output_type": "stream",
          "name": "stdout",
          "text": [
            "Enter the first number: 5\n",
            "Enter the  second number: 2\n",
            "Enter the third number: 3\n",
            "7\n",
            "5\n",
            "3\n"
          ]
        }
      ]
    }
  ]
}